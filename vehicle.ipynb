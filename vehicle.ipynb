{
  "cells": [
    {
      "cell_type": "code",
      "execution_count": null,
      "metadata": {
        "id": "CbN5R3kvFvVK"
      },
      "outputs": [],
      "source": [
        "from IPython.display import Image"
      ]
    },
    {
      "cell_type": "code",
      "execution_count": null,
      "metadata": {
        "id": "YoKgLurm_w99"
      },
      "outputs": [],
      "source": [
        "!pip install ultralytics==8.0.0"
      ]
    },
    {
      "cell_type": "code",
      "execution_count": null,
      "metadata": {
        "id": "wcb122A1CKnF"
      },
      "outputs": [],
      "source": [
        "import torch"
      ]
    },
    {
      "cell_type": "code",
      "execution_count": null,
      "metadata": {
        "id": "8YYrJWJwCXsi"
      },
      "outputs": [],
      "source": [
        "torch.cuda.is_available()"
      ]
    },
    {
      "cell_type": "code",
      "execution_count": null,
      "metadata": {
        "id": "FOpv9mCiCbBf"
      },
      "outputs": [],
      "source": [
        "torch.__version__"
      ]
    },
    {
      "cell_type": "code",
      "execution_count": null,
      "metadata": {
        "id": "Khw8KhHCIYou"
      },
      "outputs": [],
      "source": [
        "!gdown \"https://drive.google.com/uc?id=1LWlnKlgKmDUfxtItZTcY48gQNsmDKZGr\""
      ]
    },
    {
      "cell_type": "code",
      "execution_count": null,
      "metadata": {
        "id": "RkqkDFwVIY0i"
      },
      "outputs": [],
      "source": [
        "!gdown \"https://drive.google.com/uc?id=1hl_NNFciFwImmqplL3RkozpiIa8I38cd&confirm=t\""
      ]
    },
    {
      "cell_type": "code",
      "execution_count": null,
      "metadata": {
        "id": "R0qIHfOGCeX6"
      },
      "outputs": [],
      "source": [
        "!yolo task=detect mode=predict model=yolov8s.pt source='/content/VID-20230301-WA0000.mp4' "
      ]
    },
    {
      "cell_type": "code",
      "execution_count": null,
      "metadata": {
        "id": "5nqXmXCjFmDv"
      },
      "outputs": [],
      "source": [
        "Image('/content/runs/detect/predict/image1.jpg')"
      ]
    },
    {
      "cell_type": "code",
      "execution_count": null,
      "metadata": {
        "id": "GMoWTy1MHD_v"
      },
      "outputs": [],
      "source": [
        "!yolo task=detect mode=predict model=yolov8s.pt source='/content/image1.jpg' save_txt=True"
      ]
    },
    {
      "cell_type": "code",
      "execution_count": null,
      "metadata": {
        "id": "RVU7p-v-HV8H"
      },
      "outputs": [],
      "source": [
        "Image('/content/runs/detect/predict2/image1.jpg')"
      ]
    },
    {
      "cell_type": "code",
      "execution_count": null,
      "metadata": {
        "id": "Y1lajsM9Hlag"
      },
      "outputs": [],
      "source": [
        "!yolo task=detect mode=predict model=yolov8s.pt source='/content/image1.jpg' save_crop=True"
      ]
    },
    {
      "cell_type": "code",
      "execution_count": null,
      "metadata": {
        "id": "PzJNNKvqH9eG"
      },
      "outputs": [],
      "source": [
        "Image('/content/runs/detect/predict3/crops/person/image16.jpg')"
      ]
    },
    {
      "cell_type": "code",
      "execution_count": null,
      "metadata": {
        "id": "BXFlf2iDIRsD"
      },
      "outputs": [],
      "source": [
        "!yolo task=detect mode=predict model=yolov8s.pt source='/content/image1.jpg' hide_labels=True hide_conf=True"
      ]
    },
    {
      "cell_type": "code",
      "execution_count": null,
      "metadata": {
        "id": "ZcM5zzh2IwqO"
      },
      "outputs": [],
      "source": [
        "!yolo task=detect mode=predict model=yolov8s.pt source='/content/VID-20230302-WA0001.mp4' "
      ]
    },
    {
      "cell_type": "code",
      "execution_count": null,
      "metadata": {
        "id": "zsBfulhtJohk"
      },
      "outputs": [],
      "source": [
        "!rm \"/content/result_compressed.mp4\""
      ]
    },
    {
      "cell_type": "code",
      "execution_count": null,
      "metadata": {
        "colab": {
          "background_save": true
        },
        "id": "UMY34qBCKMQC"
      },
      "outputs": [],
      "source": [
        "from IPython.display import HTML\n",
        "from base64 import b64encode\n",
        "import os\n",
        "\n",
        "save_path = '/content/runs/detect/predict3/VID-20230302-WA0001.mp4'\n",
        "\n",
        "compressed_path = \"/content/result_compressed.mp4\"\n",
        "\n",
        "os.system(f\"ffmpeg -i {save_path} -vcodec libx264 {compressed_path}\")\n",
        "\n",
        "mp4 = open(compressed_path,'rb').read()\n",
        "data_url = \"data:video/mp4;base64,\" + b64encode(mp4).decode()\n",
        "HTML(\"\"\"\n",
        "<video width=400 controls>\n",
        "      <source src=\"%s\" type=\"video/mp4\">\n",
        "</video>\n",
        "\"\"\" % data_url)"
      ]
    },
    {
      "cell_type": "code",
      "execution_count": null,
      "metadata": {
        "id": "_vBEPKSqKRng"
      },
      "outputs": [],
      "source": [
        "!yolo task=segment mode=predict model=yolov8s-seg.pt source='/content/image1.jpg' "
      ]
    },
    {
      "cell_type": "code",
      "execution_count": null,
      "metadata": {
        "id": "TszPAoftKoai"
      },
      "outputs": [],
      "source": [
        "Image('/content/runs/segment/predict/image1.jpg')"
      ]
    },
    {
      "cell_type": "code",
      "execution_count": null,
      "metadata": {
        "id": "xVJRuThXLCkJ"
      },
      "outputs": [],
      "source": [
        "!yolo task=segment mode=predict model=yolov8s-seg.pt source='/content/image1.jpg'  hide_labels=True hide_conf=True"
      ]
    },
    {
      "cell_type": "code",
      "execution_count": null,
      "metadata": {
        "id": "jwqLmhcvK004"
      },
      "outputs": [],
      "source": [
        "Image('/content/runs/segment/predict2/image1.jpg')"
      ]
    },
    {
      "cell_type": "code",
      "execution_count": null,
      "metadata": {
        "id": "Hq7MjtDJLQOU"
      },
      "outputs": [],
      "source": [
        "!yolo task=segment mode=predict model=yolov8s-seg.pt source='/content/result_compressed.mp4' "
      ]
    },
    {
      "cell_type": "code",
      "execution_count": null,
      "metadata": {
        "id": "uBwEiXVpL1y5"
      },
      "outputs": [],
      "source": [
        "!rm  \"/content/result_compressed.mp4\""
      ]
    },
    {
      "cell_type": "code",
      "execution_count": null,
      "metadata": {
        "colab": {
          "background_save": true
        },
        "id": "YKtmJkFSLfY2"
      },
      "outputs": [],
      "source": [
        "from IPython.display import HTML\n",
        "from base64 import b64encode\n",
        "import os\n",
        "\n",
        "save_path = '/content/runs/segment/predict/result_compressed.mp4'\n",
        "\n",
        "compressed_path = \"/content/result_compressed.mp4\"\n",
        "\n",
        "os.system(f\"ffmpeg -i {save_path} -vcodec libx264 {compressed_path}\")\n",
        "\n",
        "mp4 = open(compressed_path,'rb').read()\n",
        "data_url = \"data:video/mp4;base64,\" + b64encode(mp4).decode()\n",
        "HTML(\"\"\"\n",
        "<video width=400 controls>\n",
        "      <source src=\"%s\" type=\"video/mp4\">\n",
        "</video>\n",
        "\"\"\" % data_url)"
      ]
    },
    {
      "cell_type": "code",
      "execution_count": null,
      "metadata": {
        "id": "nBGEg4e_MwsM"
      },
      "outputs": [],
      "source": [
        "!yolo task=detect mode=export model=yolov8s.pt format=onnx"
      ]
    },
    {
      "cell_type": "code",
      "execution_count": null,
      "metadata": {
        "id": "qnmC_jSKNqGV"
      },
      "outputs": [],
      "source": [
        "!yolo task=segment mode=export model=yolov8s-seg.pt format=onnx"
      ]
    },
    {
      "cell_type": "code",
      "execution_count": null,
      "metadata": {
        "id": "cMfQuulqOC9b"
      },
      "outputs": [],
      "source": [
        "from ultralytics import YOLO"
      ]
    },
    {
      "cell_type": "code",
      "execution_count": null,
      "metadata": {
        "id": "kwSIi3M4OrgJ"
      },
      "outputs": [],
      "source": [
        "model = YOLO(\"yolov8m.pt\")\n",
        "model.predict(source='/content/image1.jpg',  save=True, conf=0.5,save_txt=True)"
      ]
    },
    {
      "cell_type": "code",
      "execution_count": null,
      "metadata": {
        "id": "YSwAYCzcQMvC"
      },
      "outputs": [],
      "source": [
        "Image('/content/runs/detect/predict6/image1.jpg')"
      ]
    },
    {
      "cell_type": "code",
      "execution_count": null,
      "metadata": {
        "id": "Nu75eaaPQheC"
      },
      "outputs": [],
      "source": [
        "model = YOLO(\"yolov8s-seg.pt\")\n",
        "model.predict(source='/content/received_221485210441658.mp4',  save=True, conf=0.5, save_txt = False)"
      ]
    },
    {
      "cell_type": "code",
      "execution_count": null,
      "metadata": {
        "id": "qjMPMuUNQyWt"
      },
      "outputs": [],
      "source": [
        "!rm \"/content/result_compressed.mp4\""
      ]
    },
    {
      "cell_type": "code",
      "execution_count": null,
      "metadata": {
        "id": "n_ZPGKGuQrdz"
      },
      "outputs": [],
      "source": [
        "from IPython.display import HTML\n",
        "from base64 import b64encode\n",
        "import os\n",
        "\n",
        "save_path = '/content/runs/detect/predict7/demo.mp4'\n",
        "\n",
        "compressed_path = \"/content/result_compressed.mp4\"\n",
        "\n",
        "os.system(f\"ffmpeg -i {save_path} -vcodec libx264 {compressed_path}\")\n",
        "\n",
        "mp4 = open(compressed_path,'rb').read()\n",
        "data_url = \"data:video/mp4;base64,\" + b64encode(mp4).decode()\n",
        "HTML(\"\"\"\n",
        "<video width=400 controls>\n",
        "      <source src=\"%s\" type=\"video/mp4\">\n",
        "</video>\n",
        "\"\"\" % data_url)"
      ]
    },
    {
      "cell_type": "code",
      "execution_count": null,
      "metadata": {
        "id": "X9QaivqvPM67"
      },
      "outputs": [],
      "source": [
        "model = YOLO(\"yolov8m.pt\")\n",
        "model.export(format=\"onnx\")"
      ]
    },
    {
      "cell_type": "code",
      "execution_count": null,
      "metadata": {
        "id": "8dyEeotUP-RG"
      },
      "outputs": [],
      "source": []
    }
  ],
  "metadata": {
    "accelerator": "GPU",
    "colab": {
      "provenance": []
    },
    "gpuClass": "standard",
    "kernelspec": {
      "display_name": "Python 3",
      "name": "python3"
    },
    "language_info": {
      "name": "python"
    }
  },
  "nbformat": 4,
  "nbformat_minor": 0
}